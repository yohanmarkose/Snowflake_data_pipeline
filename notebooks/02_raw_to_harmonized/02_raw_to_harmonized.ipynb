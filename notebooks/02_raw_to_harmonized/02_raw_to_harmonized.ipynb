{
 "metadata": {
  "kernelspec": {
   "display_name": "Streamlit Notebook",
   "name": "streamlit"
  },
  "lastEditStatus": {
   "notebookId": "jbszhm6vw4zarmdxti5z",
   "authorId": "6690310009356",
   "authorName": "YOHANMARKOSE",
   "authorEmail": "markose.y@northeastern.edu",
   "sessionId": "55be9f44-f966-4573-ac93-eb7240233a60",
   "lastEditTime": 1740526746960
  }
 },
 "nbformat_minor": 5,
 "nbformat": 4,
 "cells": [
  {
   "cell_type": "code",
   "id": "3775908f-ca36-4846-8f38-5adca39217f2",
   "metadata": {
    "language": "python",
    "name": "sql_get_context"
   },
   "source": "SELECT current_database() AS DATABASE_NAME, current_schema() AS SCHEMA_NAME\n",
   "execution_count": null,
   "outputs": []
  },
  {
   "cell_type": "code",
   "id": "9a73e27a-c874-4e9c-a236-67aed79d8fd9",
   "metadata": {
    "language": "python",
    "name": "cell1"
   },
   "outputs": [],
   "source": "# Import python packages\nimport logging\nfrom snowflake.core import Root\nfrom snowflake.snowpark.context import get_active_session\n\ncurrent_context_df = cells.sql_get_context.to_pandas()\ndatabase_name = current_context_df.iloc[0,0]\nschema_name = current_context_df.iloc[0,1]\n\nsession = get_active_session()\nsession.use_schema(f\"{database_name}.{schema_name}\")\n\nlogger.info(\"02_raw_to_harmonized start\")",
   "execution_count": null
  },
  {
   "cell_type": "code",
   "id": "c695373e-ac74-4b62-a1f1-08206cbd5c81",
   "metadata": {
    "language": "python",
    "name": "py_table_exists"
   },
   "source": "def table_exists(session, database_name='', schema_name='', table_name=''):\n    exists = session.sql(\"SELECT EXISTS (SELECT * FROM {}.INFORMATION_SCHEMA.TABLES WHERE TABLE_SCHEMA = '{}' AND TABLE_NAME = '{}') AS TABLE_EXISTS\".format(database_name, schema_name, table_name)).collect()[0]['TABLE_EXISTS']\n    return exists",
   "execution_count": null,
   "outputs": []
  },
  {
   "cell_type": "code",
   "id": "31927266-930c-4441-8639-6d8cefcfcee4",
   "metadata": {
    "language": "python",
    "name": "cell3"
   },
   "outputs": [],
   "source": "import snowflake.snowpark.functions as F\n\ndef create_fred_view(session):\n    raw_fred_data = session.table(\"RAW_FRED.FRED_10Y_2Y\")\n\n    # Standardizing timestamps and financial indicators\n    harmonized_data = raw_fred_data.select(\n        F.to_date(F.col(\"observation_date\")).alias(\"OBSERVATION_DATE\"),\n        F.col(\"T10Y2Y\").cast(\"float\").alias(\"YIELD_SPREAD\")\n    )\n\n    harmonized_data = harmonized_data.drop_duplicates([\"OBSERVATION_DATE\"])\n\n    # Step 4: Ensure data consistency (e.g., filter out invalid rows)\n    harmonized_data = harmonized_data.filter(\n        (F.col(\"YIELD_SPREAD\").isNotNull())  # Remove rows with null values\n\n    harmonized_data.create_or_replace_view('FRED_FLATTENED_V')\n\ndef create_fred_view_stream(session):\n    _ = session.sql('CREATE OR REPLACE STREAM FRED_FLATTENED_V_STREAM \\\n                        ON VIEW FRED_FLATTENED_V \\\n                        SHOW_INITIAL_ROWS = TRUE').collect()\n    \n",
   "execution_count": null
  },
  {
   "cell_type": "code",
   "id": "29badd8a-aead-4f7b-bdcb-e12049c0d18b",
   "metadata": {
    "language": "python",
    "name": "cell4"
   },
   "outputs": [],
   "source": "create_fred_view(session)\ncreate_fred_view_stream(session)\n# logger.info(f\"Successfully updated {table_name}\")",
   "execution_count": null
  }
 ]
}