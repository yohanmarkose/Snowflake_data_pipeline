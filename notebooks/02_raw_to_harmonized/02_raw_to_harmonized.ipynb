{
 "cells": [
  {
   "cell_type": "code",
   "execution_count": null,
   "id": "3775908f-ca36-4846-8f38-5adca39217f2",
   "metadata": {
    "language": "sql",
    "name": "sql_get_context"
   },
   "outputs": [],
   "source": [
    "SELECT current_database() AS DATABASE_NAME, current_schema() AS SCHEMA_NAME\n"
   ]
  },
  {
   "cell_type": "code",
   "execution_count": null,
   "id": "9a73e27a-c874-4e9c-a236-67aed79d8fd9",
   "metadata": {
    "language": "python",
    "name": "cell1"
   },
   "outputs": [],
   "source": [
    "# Import python packages\n",
    "import logging\n",
    "from snowflake.snowpark.context import get_active_session\n",
    "\n",
    "logger = logging.getLogger(\"fred_logger\")\n",
    "\n",
    "current_context_df = cells.sql_get_context.to_pandas()\n",
    "database_name = current_context_df.iloc[0,0]\n",
    "schema_name = current_context_df.iloc[0,1]\n",
    "\n",
    "session = get_active_session()\n",
    "\n",
    "logger.info(\"02_raw_to_harmonized start\")"
   ]
  },
  {
   "cell_type": "code",
   "execution_count": null,
   "id": "31927266-930c-4441-8639-6d8cefcfcee4",
   "metadata": {
    "collapsed": false,
    "language": "python",
    "name": "cell3"
   },
   "outputs": [],
   "source": [
    "import snowflake.snowpark.functions as F\n",
    "\n",
    "env = schema_name[:3]\n",
    "def create_fred_view(session):\n",
    "    raw_fred_10Y = session.table(f\"{database_name}.{env}_RAW_FRED.FRED_DGS10Y\").select(\n",
    "                                                                                        F.to_date(F.col('\"observation_date\"')).alias(\"OBSERVATION_DATE\"),\n",
    "                                                                                        F.col('\"DGS10\"').cast(\"float\").alias(\"10Y_YIELD\")\n",
    "                                                                                    )\n",
    "    \n",
    "    raw_fred_2Y = session.table(f\"{database_name}.{env}_RAW_FRED.FRED_DGS2Y\").select(\n",
    "                                                                                        F.to_date(F.col('\"observation_date\"')).alias(\"OBSERVATION_DATE\"),\n",
    "                                                                                        F.col('\"DGS2\"').cast(\"float\").alias(\"2Y_YIELD\")\n",
    "                                                                                    )\n",
    "\n",
    "    harmonized_data = raw_fred_10Y.join(raw_fred_2Y, raw_fred_10Y['OBSERVATION_DATE'] == raw_fred_2Y['OBSERVATION_DATE']).select(\n",
    "                                                                                                                                    raw_fred_10Y[\"OBSERVATION_DATE\"].alias(\"OBSERVATION_DATE\"),  # Keep only one OBSERVATION_DATE\n",
    "                                                                                                                                    F.col(\"10Y_YIELD\"),\n",
    "                                                                                                                                    F.col(\"2Y_YIELD\")\n",
    "                                                                                                                                )\n",
    "\n",
    "    # harmonized_data = harmonized_data.filter(\n",
    "    #     (F.col(\"YIELD_SPREAD\").isNotNull()))\n",
    "    \n",
    "    session.use_schema(f\"{database_name}.{schema_name}\")\n",
    "    harmonized_data.create_or_replace_view('FRED_FLATTENED_V')\n",
    "\n",
    "def create_fred_view_stream(session):\n",
    "    _ = session.sql('CREATE OR REPLACE STREAM FRED_FLATTENED_V_STREAM \\\n",
    "                        ON VIEW FRED_FLATTENED_V \\\n",
    "                        SHOW_INITIAL_ROWS = TRUE').collect()\n",
    "    \n"
   ]
  },
  {
   "cell_type": "code",
   "execution_count": null,
   "id": "29badd8a-aead-4f7b-bdcb-e12049c0d18b",
   "metadata": {
    "language": "python",
    "name": "cell4"
   },
   "outputs": [],
   "source": [
    "\n",
    "create_fred_view(session)\n",
    "create_fred_view_stream(session)"
   ]
  },
  {
   "cell_type": "code",
   "execution_count": null,
   "id": "91a3299c",
   "metadata": {
    "vscode": {
     "languageId": "sql"
    }
   },
   "outputs": [],
   "source": [
    "CREATE OR REPLACE PROCEDURE merge_fred_updates_sp(DATABASE_NAME STRING, SCHEMA_NAME STRING)\n",
    " RETURNS STRING\n",
    " LANGUAGE PYTHON\n",
    " RUNTIME_VERSION=3.9\n",
    " PACKAGES=('snowflake-snowpark-python')\n",
    " HANDLER='main'\n",
    "AS\n",
    "$$\n",
    "from snowflake.snowpark import Session\n",
    "import snowflake.snowpark.functions as F\n",
    "\n",
    "\n",
    "def table_exists(session, schema='', name=''):\n",
    "    exists = session.sql(\"SELECT EXISTS (SELECT * FROM INFORMATION_SCHEMA.TABLES WHERE TABLE_SCHEMA = '{}' AND TABLE_NAME = '{}') AS TABLE_EXISTS\".format(schema, name)).collect()[0]['TABLE_EXISTS']\n",
    "    return exists\n",
    "\n",
    "def create_fred_table(session):\n",
    "    _ = session.sql(\"CREATE TABLE FRED_10Y_2Y LIKE FRED_FLATTENED_V\").collect()\n",
    "    _ = session.sql(\"ALTER TABLE FRED_10Y_2Y ADD COLUMN META_UPDATED_AT TIMESTAMP\").collect()\n",
    "\n",
    "def merge_fred_updates(session):\n",
    "    # _ = session.sql('ALTER WAREHOUSE HOL_WH SET WAREHOUSE_SIZE = XLARGE WAIT_FOR_COMPLETION = TRUE').collect()\n",
    "\n",
    "    source = session.table('FRED_FLATTENED_V_STREAM')\n",
    "    target = session.table('FRED_10Y_2Y')\n",
    "\n",
    "    # TODO: Is the if clause supposed to be based on \"META_UPDATED_AT\"?\n",
    "    cols_to_update = {c: source[c] for c in source.schema.names if \"METADATA\" not in c}\n",
    "    metadata_col_to_update = {\"META_UPDATED_AT\": F.current_timestamp()}\n",
    "    updates = {**cols_to_update, **metadata_col_to_update}\n",
    "\n",
    "    # merge into DIM_CUSTOMER\n",
    "    target.merge(source, target['OBSERVATION_DATE'] == source['OBSERVATION_DATE'], \\\n",
    "                        [F.when_matched().update(updates), F.when_not_matched().insert(updates)])\n",
    "    \n",
    "def main(session: Session, DATABASE_NAME: str, SCHEMA_NAME: str) -> str:\n",
    "    session.use_schema(f\"{database_name}.{schema_name}\")\n",
    "    \n",
    "    if not table_exists(session, schema=schema_name, name='FRED_10Y_2Y'):\n",
    "            create_fred_table(session)\n",
    "            # create_fred_stream(session)\n",
    "    # Process data incrementally\n",
    "    merge_fred_updates(session)\n",
    "    return \"FRED_10Y_2Y table updated successfully!\"\n",
    "\n",
    "$$;"
   ]
  }
 ],
 "metadata": {
  "kernelspec": {
   "display_name": "Streamlit Notebook",
   "name": "streamlit"
  },
  "lastEditStatus": {
   "authorEmail": "markose.y@northeastern.edu",
   "authorId": "6690310009356",
   "authorName": "YOHANMARKOSE",
   "lastEditTime": 1740540851058,
   "notebookId": "zxcuds3ldgdpuu6dx2pe",
   "sessionId": "fcb4ecda-9131-4fa5-a2c1-a9350e168ab7"
  }
 },
 "nbformat": 4,
 "nbformat_minor": 5
}
