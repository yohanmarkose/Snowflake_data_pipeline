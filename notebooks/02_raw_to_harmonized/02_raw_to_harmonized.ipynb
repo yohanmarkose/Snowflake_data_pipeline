{
 "cells": [
  {
   "cell_type": "code",
   "execution_count": null,
   "id": "3775908f-ca36-4846-8f38-5adca39217f2",
   "metadata": {
    "language": "sql",
    "name": "sql_get_context"
   },
   "outputs": [],
   "source": [
    "SELECT current_database() AS DATABASE_NAME, current_schema() AS SCHEMA_NAME\n"
   ]
  },
  {
   "cell_type": "code",
   "execution_count": null,
   "id": "9a73e27a-c874-4e9c-a236-67aed79d8fd9",
   "metadata": {
    "language": "python",
    "name": "cell1"
   },
   "outputs": [],
   "source": [
    "# Import python packages\n",
    "import logging\n",
    "from snowflake.core import Root\n",
    "from snowflake.snowpark.context import get_active_session\n",
    "\n",
    "logger = logging.getLogger(\"fred_logger\")\n",
    "\n",
    "current_context_df = cells.sql_get_context.to_pandas()\n",
    "database_name = current_context_df.iloc[0,0]\n",
    "schema_name = current_context_df.iloc[0,1]\n",
    "\n",
    "session = get_active_session()\n",
    "\n",
    "logger.info(\"02_raw_to_harmonized start\")"
   ]
  },
  {
   "cell_type": "code",
   "execution_count": null,
   "id": "c695373e-ac74-4b62-a1f1-08206cbd5c81",
   "metadata": {
    "language": "python",
    "name": "py_table_exists"
   },
   "outputs": [],
   "source": [
    "def table_exists(session, database_name='', schema_name='', table_name=''):\n",
    "    exists = session.sql(\"SELECT EXISTS (SELECT * FROM {}.INFORMATION_SCHEMA.TABLES WHERE TABLE_SCHEMA = '{}' AND TABLE_NAME = '{}') AS TABLE_EXISTS\".format(database_name, schema_name, table_name)).collect()[0]['TABLE_EXISTS']\n",
    "    return exists"
   ]
  },
  {
   "cell_type": "code",
   "execution_count": null,
   "id": "dccc3466-cb2b-4fcd-844b-21d1538b2d65",
   "metadata": {
    "language": "python",
    "name": "cell2"
   },
   "outputs": [],
   "source": [
    "raw_fred_data = session.table(f\"{database_name}.{env}_RAW_FRED.FRED_10Y_2Y\")\n",
    "raw_fred_data.show()"
   ]
  },
  {
   "cell_type": "code",
   "execution_count": null,
   "id": "31927266-930c-4441-8639-6d8cefcfcee4",
   "metadata": {
    "collapsed": false,
    "language": "python",
    "name": "cell3"
   },
   "outputs": [],
   "source": [
    "import snowflake.snowpark.functions as F\n",
    "\n",
    "env = schema_name[:3]\n",
    "def create_fred_view(session):\n",
    "    raw_fred_data = session.table(f\"{database_name}.{env}_RAW_FRED.FRED_10Y_2Y\")\n",
    "\n",
    "    # Standardizing timestamps and financial indicators\n",
    "    harmonized_data = raw_fred_data.select(\n",
    "        F.to_date(F.col('\"observation_date\"')).alias(\"OBSERVATION_DATE\"),\n",
    "        F.col('\"T10Y2Y\"').cast(\"float\").alias(\"YIELD_SPREAD\")\n",
    "    )\n",
    "\n",
    "\n",
    "    harmonized_data = harmonized_data.filter(\n",
    "        (F.col(\"YIELD_SPREAD\").isNotNull()))\n",
    "    session.use_schema(f\"{database_name}.{schema_name}\")\n",
    "    harmonized_data.create_or_replace_view('FRED_FLATTENED_V')\n",
    "\n",
    "def create_fred_view_stream(session):\n",
    "    _ = session.sql('CREATE OR REPLACE STREAM FRED_FLATTENED_V_STREAM \\\n",
    "                        ON VIEW FRED_FLATTENED_V \\\n",
    "                        SHOW_INITIAL_ROWS = TRUE').collect()\n",
    "    \n"
   ]
  },
  {
   "cell_type": "code",
   "execution_count": null,
   "id": "29badd8a-aead-4f7b-bdcb-e12049c0d18b",
   "metadata": {
    "language": "python",
    "name": "cell4"
   },
   "outputs": [],
   "source": [
    "\n",
    "create_fred_view(session)\n",
    "create_fred_view_stream(session)\n",
    "# logger.info(f\"Successfully updated {table_name}\")"
   ]
  }
 ],
 "metadata": {
  "kernelspec": {
   "display_name": "Streamlit Notebook",
   "name": "streamlit"
  },
  "lastEditStatus": {
   "authorEmail": "markose.y@northeastern.edu",
   "authorId": "6690310009356",
   "authorName": "YOHANMARKOSE",
   "lastEditTime": 1740540851058,
   "notebookId": "zxcuds3ldgdpuu6dx2pe",
   "sessionId": "fcb4ecda-9131-4fa5-a2c1-a9350e168ab7"
  }
 },
 "nbformat": 4,
 "nbformat_minor": 5
}
