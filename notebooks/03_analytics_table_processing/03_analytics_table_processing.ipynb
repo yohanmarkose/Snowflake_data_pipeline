{
 "metadata": {
  "kernelspec": {
   "display_name": "Streamlit Notebook",
   "name": "streamlit"
  },
  "lastEditStatus": {
   "notebookId": "j224ji3pod4tvp2lj77w",
   "authorId": "6690310009356",
   "authorName": "YOHANMARKOSE",
   "authorEmail": "markose.y@northeastern.edu",
   "sessionId": "046231bf-1c68-4083-b9c7-bf8ccc9609c8",
   "lastEditTime": 1740616785918
  }
 },
 "nbformat_minor": 5,
 "nbformat": 4,
 "cells": [
  {
   "cell_type": "code",
   "id": "b4d81575-5a56-4315-8949-3451cf57c500",
   "metadata": {
    "language": "sql",
    "name": "cell1"
   },
   "outputs": [],
   "source": "SELECT current_database() AS DATABASE_NAME, current_schema() AS SCHEMA_NAME",
   "execution_count": null
  },
  {
   "cell_type": "code",
   "id": "edd2bd6e-22f7-413c-bb64-52288c4598d3",
   "metadata": {
    "language": "python",
    "name": "cell3"
   },
   "outputs": [],
   "source": "# Import python packages\nimport logging\n# from snowflake.core import Root\nfrom snowflake.snowpark.context import get_active_session\n\nlogger = logging.getLogger(\"fred_logger\")\n\ncurrent_context_df = cells.sql_get_context.to_pandas()\ndatabase_name = current_context_df.iloc[0,0]\nschema_name = current_context_df.iloc[0,1]\n\nsession = get_active_session()\n\nlogger.info(\"03_analytics_table_processing start\")",
   "execution_count": null
  },
  {
   "cell_type": "code",
   "id": "3775908f-ca36-4846-8f38-5adca39217f2",
   "metadata": {
    "language": "sql",
    "name": "sproc_incremental_updates"
   },
   "source": "CREATE OR REPLACE PROCEDURE merge_fred_updates_sp(DATABASE_NAME STRING, SCHEMA_NAME STRING)\n RETURNS STRING\n LANGUAGE PYTHON\n RUNTIME_VERSION=3.9\n PACKAGES=('snowflake-snowpark-python')\n HANDLER='main'\nAS\n$$\nfrom snowflake.snowpark import Session\nimport snowflake.snowpark.functions as F\n\nenv = schema_name[:3]\n\ndef table_exists(session, schema='', name=''):\n    exists = session.sql(\"SELECT EXISTS (SELECT * FROM INFORMATION_SCHEMA.TABLES WHERE TABLE_SCHEMA = '{}' AND TABLE_NAME = '{}') AS TABLE_EXISTS\".format(schema, name)).collect()[0]['TABLE_EXISTS']\n    return exists\n\ndef create_fred_table(session):\n    _ = session.sql(f\"CREATE TABLE FRED_10Y_2Y LIKE {DATABASE_NAME}.{env}_HARMONIZED.FRED_FLATTENED\").collect()\n    _ = session.sql(\"ALTER TABLE FRED_10Y_2Y ADD COLUMN META_UPDATED_AT TIMESTAMP\").collect()\n\n# Uncomment only if we need to process another table\n# def create_fred_stream(session):\n#     _ = session.sql(\"CREATE STREAM FRED_10Y_2Y_STREAM ON TABLE FRED_10Y_2Y\").collect()\n\ndef merge_fred_updates(session):\n    # _ = session.sql('ALTER WAREHOUSE HOL_WH SET WAREHOUSE_SIZE = XLARGE WAIT_FOR_COMPLETION = TRUE').collect()\n\n    source = f\"{DATABASE_NAME}.{env}_HARMONIZED.FRED_STREAM\"\n    target = f\"{DATABASE_NAME}.{SCHEMA_NAME}.FRED_10Y_2Y\"\n\n    # TODO: Is the if clause supposed to be based on \"META_UPDATED_AT\"?\n    cols_to_update = {c: source[c] for c in source.schema.names if \"METADATA\" not in c}\n    metadata_col_to_update = {\"META_UPDATED_AT\": F.current_timestamp()}\n    updates = {**cols_to_update, **metadata_col_to_update}\n\n    # merge into DIM_CUSTOMER\n    target.merge(source, target['OBSERVATION_DATE'] == source['OBSERVATION_DATE'], \\\n                        [F.when_matched().update(updates), F.when_not_matched().insert(updates)])\n    \ndef main(session: Session, DATABASE_NAME: str, SCHEMA_NAME: str) -> str:\n    \n    if not table_exists(session, schema=SCHEMA_NAME, name='FRED_10Y_2Y'):\n            create_fred_table(session)\n            # create_fred_stream(session)\n    # Process data incrementally\n    merge_fred_updates(session)\n    return \"FRED_10Y_2Y table updated successfully!\"\n\n$$;\n",
   "execution_count": null,
   "outputs": []
  },
  {
   "cell_type": "code",
   "id": "8d50cbf4-0c8d-4950-86cb-114990437ac9",
   "metadata": {
    "language": "python",
    "name": "cell2"
   },
   "source": "session.use_schema(f\"{database_name}.{schema_name}\")\nresult = session.sql(f\"CALL merge_fred_updates_sp('{database_name}', '{schema_name}')\").collect()\n\n# Print result\nprint(result[0][0])  \nSELECT 'SUNDAY', 0.9;",
   "execution_count": null,
   "outputs": []
  }
 ]
}