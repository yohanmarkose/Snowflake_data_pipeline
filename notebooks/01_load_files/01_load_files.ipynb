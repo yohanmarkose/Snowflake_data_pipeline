{
 "cells": [
  {
   "cell_type": "markdown",
   "id": "74dadef4-ccff-4c00-8aaf-0e5af847c4ea",
   "metadata": {
    "collapsed": false,
    "name": "cell4"
   },
   "source": [
    "# 01 Load FRED File"
   ]
  },
  {
   "cell_type": "code",
   "execution_count": null,
   "id": "97bc840f-116e-4734-a784-bdc4d2872f1f",
   "metadata": {
    "language": "sql",
    "name": "db_schema_table"
   },
   "outputs": [],
   "source": [
    "SELECT current_database() AS DATABASE_NAME, current_schema() AS SCHEMA_NAME"
   ]
  },
  {
   "cell_type": "code",
   "execution_count": null,
   "id": "1a40208d-11e6-4b5b-90ce-48f63d781f09",
   "metadata": {
    "language": "python",
    "name": "cell7"
   },
   "outputs": [],
   "source": [
    "import logging\n",
    "\n",
    "# Set up logging\n",
    "logger = logging.getLogger(\"fred_logger\")\n",
    "\n",
    "# Get the target database and schema using the results from the SQL cell above\n",
    "current_context_df = cells.db_schema_table.to_pandas()\n",
    "database_name = current_context_df.iloc[0,0]\n",
    "schema_name = current_context_df.iloc[0,1]\n",
    "\n",
    "# Use Snowpark for analyses\n",
    "from snowflake.snowpark.context import get_active_session\n",
    "session = get_active_session()\n",
    "\n",
    "logger.info(\"01_load_files start\")"
   ]
  },
  {
   "cell_type": "code",
   "execution_count": null,
   "id": "c2778d72-301f-4c88-bf9b-60cd3ad5a438",
   "metadata": {
    "language": "python",
    "name": "cell5"
   },
   "outputs": [],
   "source": [
    "def load_csv_to_table(session, stage_file_path, target_table):\n",
    "    df = session.read.option(\"infer_schema\", True).option(\"header\", True).csv(stage_file_path)\n",
    "    df.write.mode(\"overwrite\").save_as_table(target_table)\n",
    "    return True"
   ]
  },
  {
   "cell_type": "code",
   "execution_count": null,
   "id": "f5751ea1-8a91-484e-b640-30fa387bd2a5",
   "metadata": {
    "language": "python",
    "name": "cell8"
   },
   "outputs": [],
   "source": [
    "session.use_schema(f\"{database_name}.{schema_name}\")\n",
    "\n",
    "load_csv_to_table(session, \"@INTEGRATIONS.S3_FRED_STAGE/FRED_10Y/DGS10.csv\", \"FRED_DGS10Y\")\n",
    "load_csv_to_table(session, \"@INTEGRATIONS.S3_FRED_STAGE/FRED_2Y/DGS2.csv\", \"FRED_DGS2Y\")\n",
    "\n",
    "logger.info(\"01_load_files end\")"
   ]
  }
 ],
 "metadata": {
  "kernelspec": {
   "display_name": "Streamlit Notebook",
   "name": "streamlit"
  },
  "lastEditStatus": {
   "authorEmail": "markose.y@northeastern.edu",
   "authorId": "6690310009356",
   "authorName": "YOHANMARKOSE",
   "lastEditTime": 1740447077660,
   "notebookId": "yy25nhgtet5sruzz3m3j",
   "sessionId": "be7721ec-c134-47f1-a9ba-2bc824686b2a"
  }
 },
 "nbformat": 4,
 "nbformat_minor": 5
}
