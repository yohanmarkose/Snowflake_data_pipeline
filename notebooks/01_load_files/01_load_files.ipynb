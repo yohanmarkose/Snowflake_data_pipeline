{
 "cells": [
  {
   "cell_type": "markdown",
   "id": "74dadef4-ccff-4c00-8aaf-0e5af847c4ea",
   "metadata": {
    "collapsed": false,
    "name": "cell4"
   },
   "source": [
    "# 01 Load FRED File"
   ]
  },
  {
   "cell_type": "code",
   "execution_count": null,
   "id": "97bc840f-116e-4734-a784-bdc4d2872f1f",
   "metadata": {
    "language": "sql",
    "name": "db_schema_table"
   },
   "outputs": [],
   "source": [
    "SELECT current_database() AS DATABASE_NAME, current_schema() AS SCHEMA_NAME"
   ]
  },
  {
   "cell_type": "code",
   "execution_count": null,
   "id": "1a40208d-11e6-4b5b-90ce-48f63d781f09",
   "metadata": {
    "language": "python",
    "name": "cell7"
   },
   "outputs": [],
   "source": [
    "# Import python packages\n",
    "import logging\n",
    "import pandas as pd\n",
    "\n",
    "logger = logging.getLogger(\"fred_logger\")\n",
    "\n",
    "# Get the target database and schema using the results from the SQL cell above\n",
    "# This won't be needed when we can pass variables to Notebooks!\n",
    "current_context_df = cells.db_schema_table.to_pandas()\n",
    "database_name = current_context_df.iloc[0,0]\n",
    "schema_name = current_context_df.iloc[0,1]\n",
    "\n",
    "# We can also use Snowpark for our analyses!\n",
    "from snowflake.snowpark.context import get_active_session\n",
    "session = get_active_session()\n",
    "#session.use_schema(f\"{database_name}.{schema_name}\")\n",
    "\n",
    "logger.info(\"01_load_files start\")"
   ]
  },
  {
   "cell_type": "code",
   "execution_count": null,
   "id": "f7f1dc9f-6737-47ed-87ab-6cdc41477879",
   "metadata": {
    "language": "sql",
    "name": "sql_get_spreadsheets"
   },
   "outputs": [],
   "source": [
    "SELECT '@INTEGRATIONS.S3_FRED_STAGE/T10Y2Y.xlsx' AS STAGE_FILE_PATH, 'Daily' AS WORKSHEET_NAME, 'FRED_10Y_2Y' AS TARGET_TABLE"
   ]
  },
  {
   "cell_type": "code",
   "execution_count": null,
   "id": "c2778d72-301f-4c88-bf9b-60cd3ad5a438",
   "metadata": {
    "language": "python",
    "name": "cell5"
   },
   "outputs": [],
   "source": [
    "import os\n",
    "from openpyxl import load_workbook\n",
    "\n",
    "def load_excel_worksheet_to_table_local(session, stage_file_path, worksheet_name, target_table):\n",
    "  local_directory = \"./\"\n",
    "  file_name = os.path.basename(stage_file_path)\n",
    "\n",
    "  # First copy file from stage to local storage\n",
    "  get_status = session.file.get(stage_file_path, local_directory)\n",
    "\n",
    "  with open(f\"{local_directory}{file_name}\", 'rb') as f:\n",
    "    workbook = load_workbook(f)\n",
    "    sheet = workbook[worksheet_name]\n",
    "    data = sheet.values\n",
    "\n",
    "    # Get the first line in file as a header line\n",
    "    columns = next(data)[0:]\n",
    "    # Create a DataFrame based on the second and subsequent lines of data\n",
    "    df = pd.DataFrame(data, columns=columns)\n",
    " \n",
    "    df2 = session.create_dataframe(df)\n",
    "    df2.write.mode(\"overwrite\").save_as_table(target_table)\n",
    " \n",
    "  return True"
   ]
  },
  {
   "cell_type": "code",
   "execution_count": null,
   "id": "f5751ea1-8a91-484e-b640-30fa387bd2a5",
   "metadata": {
    "language": "python",
    "name": "cell8"
   },
   "outputs": [],
   "source": [
    "# Process each file from the sql_get_spreadsheets cell above\n",
    "files_to_load = cells.sql_get_spreadsheets.to_pandas()\n",
    "for index, excel_file in files_to_load.iterrows():\n",
    "    logger.info(f\"Processing Excel file {excel_file['STAGE_FILE_PATH']}\")\n",
    "    load_excel_worksheet_to_table_local(session, excel_file['STAGE_FILE_PATH'], excel_file['WORKSHEET_NAME'], excel_file['TARGET_TABLE'])\n",
    "\n",
    "logger.info(\"01_load_files end\")"
   ]
  }
 ],
 "metadata": {
  "kernelspec": {
   "display_name": "Streamlit Notebook",
   "name": "streamlit"
  },
  "lastEditStatus": {
   "authorEmail": "markose.y@northeastern.edu",
   "authorId": "6690310009356",
   "authorName": "YOHANMARKOSE",
   "lastEditTime": 1740447077660,
   "notebookId": "yy25nhgtet5sruzz3m3j",
   "sessionId": "be7721ec-c134-47f1-a9ba-2bc824686b2a"
  }
 },
 "nbformat": 4,
 "nbformat_minor": 5
}
